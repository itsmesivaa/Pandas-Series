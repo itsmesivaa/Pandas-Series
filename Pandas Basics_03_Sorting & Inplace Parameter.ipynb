{
 "cells": [
  {
   "cell_type": "markdown",
   "id": "a1ac4478",
   "metadata": {},
   "source": [
    "# Sorting and Inplace Parameter"
   ]
  },
  {
   "cell_type": "code",
   "execution_count": 1,
   "id": "3dc58127",
   "metadata": {},
   "outputs": [],
   "source": [
    "import pandas as pd"
   ]
  },
  {
   "cell_type": "code",
   "execution_count": 2,
   "id": "2970f84b",
   "metadata": {},
   "outputs": [
    {
     "data": {
      "text/plain": [
       "{1: 10, 3: 25, 2: 6, 4: 36, 5: 2, 6: 0, 7: None}"
      ]
     },
     "execution_count": 2,
     "metadata": {},
     "output_type": "execute_result"
    }
   ],
   "source": [
    "#Daywise sales details in unsorted (\"Key\" represents Day number and \"Value\" represents Sales)\n",
    "dict = {1:10, 3:25, 2:6, 4:36, 5:2, 6:0, 7:None }\n",
    "dict"
   ]
  },
  {
   "cell_type": "code",
   "execution_count": 6,
   "id": "e0ae8d6e",
   "metadata": {},
   "outputs": [
    {
     "data": {
      "text/plain": [
       "1    10.0\n",
       "3    25.0\n",
       "2     6.0\n",
       "4    36.0\n",
       "5     2.0\n",
       "6     0.0\n",
       "7     NaN\n",
       "dtype: float64"
      ]
     },
     "execution_count": 6,
     "metadata": {},
     "output_type": "execute_result"
    }
   ],
   "source": [
    "#Creating pandas series for sales\n",
    "sales = pd.Series(dict)\n",
    "sales"
   ]
  },
  {
   "cell_type": "code",
   "execution_count": 8,
   "id": "825515f5",
   "metadata": {},
   "outputs": [
    {
     "data": {
      "text/plain": [
       "1    10.0\n",
       "2     6.0\n",
       "3    25.0\n",
       "4    36.0\n",
       "5     2.0\n",
       "6     0.0\n",
       "7     NaN\n",
       "dtype: float64"
      ]
     },
     "execution_count": 8,
     "metadata": {},
     "output_type": "execute_result"
    }
   ],
   "source": [
    "#Used to sort the data based on index\n",
    "sales.sort_index()"
   ]
  },
  {
   "cell_type": "code",
   "execution_count": 10,
   "id": "1c3dc8a8",
   "metadata": {},
   "outputs": [
    {
     "data": {
      "text/plain": [
       "7     NaN\n",
       "6     0.0\n",
       "5     2.0\n",
       "4    36.0\n",
       "3    25.0\n",
       "2     6.0\n",
       "1    10.0\n",
       "dtype: float64"
      ]
     },
     "execution_count": 10,
     "metadata": {},
     "output_type": "execute_result"
    }
   ],
   "source": [
    "#Default ascending is True but if we make it as False data is sorted in Descending\n",
    "sales.sort_index(ascending=False) "
   ]
  },
  {
   "cell_type": "code",
   "execution_count": 14,
   "id": "1cb577f7",
   "metadata": {},
   "outputs": [
    {
     "data": {
      "text/plain": [
       "6     0.0\n",
       "5     2.0\n",
       "2     6.0\n",
       "1    10.0\n",
       "3    25.0\n",
       "4    36.0\n",
       "7     NaN\n",
       "dtype: float64"
      ]
     },
     "execution_count": 14,
     "metadata": {},
     "output_type": "execute_result"
    }
   ],
   "source": [
    "#Sorting the values of series\n",
    "sales.sort_values()"
   ]
  },
  {
   "cell_type": "code",
   "execution_count": 13,
   "id": "459afede",
   "metadata": {},
   "outputs": [
    {
     "data": {
      "text/plain": [
       "{'Mon': 10, 'Tue': 25, 'Wed': 6, 'Thu': 36, 'Fri': 2}"
      ]
     },
     "execution_count": 13,
     "metadata": {},
     "output_type": "execute_result"
    }
   ],
   "source": [
    "dict2 = {\"Mon\":10, \"Tue\":25 ,\"Wed\":6 , \"Thu\":36 ,\"Fri\":2}\n",
    "dict2"
   ]
  },
  {
   "cell_type": "code",
   "execution_count": 15,
   "id": "1755194d",
   "metadata": {},
   "outputs": [
    {
     "data": {
      "text/plain": [
       "Mon    10\n",
       "Tue    25\n",
       "Wed     6\n",
       "Thu    36\n",
       "Fri     2\n",
       "dtype: int64"
      ]
     },
     "execution_count": 15,
     "metadata": {},
     "output_type": "execute_result"
    }
   ],
   "source": [
    "day_sales = pd.Series(dict2)\n",
    "day_sales"
   ]
  },
  {
   "cell_type": "code",
   "execution_count": 18,
   "id": "4fb079aa",
   "metadata": {},
   "outputs": [
    {
     "data": {
      "text/plain": [
       "Fri     2\n",
       "Mon    10\n",
       "Thu    36\n",
       "Tue    25\n",
       "Wed     6\n",
       "dtype: int64"
      ]
     },
     "execution_count": 18,
     "metadata": {},
     "output_type": "execute_result"
    }
   ],
   "source": [
    "#Series sorted alphabetically\n",
    "day_sales.sort_index(ascending=True)"
   ]
  },
  {
   "cell_type": "code",
   "execution_count": null,
   "id": "6574a1c6",
   "metadata": {},
   "outputs": [],
   "source": [
    " "
   ]
  }
 ],
 "metadata": {
  "kernelspec": {
   "display_name": "Python 3 (ipykernel)",
   "language": "python",
   "name": "python3"
  },
  "language_info": {
   "codemirror_mode": {
    "name": "ipython",
    "version": 3
   },
   "file_extension": ".py",
   "mimetype": "text/x-python",
   "name": "python",
   "nbconvert_exporter": "python",
   "pygments_lexer": "ipython3",
   "version": "3.11.3"
  }
 },
 "nbformat": 4,
 "nbformat_minor": 5
}
