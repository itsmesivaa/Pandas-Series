{
 "cells": [
  {
   "cell_type": "markdown",
   "id": "ca550717",
   "metadata": {},
   "source": [
    "# Pandas Series"
   ]
  },
  {
   "cell_type": "code",
   "execution_count": 24,
   "id": "63f7f7bc",
   "metadata": {},
   "outputs": [],
   "source": [
    "import pandas as pd\n",
    "import numpy as np"
   ]
  },
  {
   "cell_type": "code",
   "execution_count": 3,
   "id": "05b22d0e",
   "metadata": {},
   "outputs": [],
   "source": [
    "lst = ['A','B','C']"
   ]
  },
  {
   "cell_type": "code",
   "execution_count": 4,
   "id": "d07eaa31",
   "metadata": {},
   "outputs": [
    {
     "data": {
      "text/plain": [
       "0    A\n",
       "1    B\n",
       "2    C\n",
       "dtype: object"
      ]
     },
     "execution_count": 4,
     "metadata": {},
     "output_type": "execute_result"
    }
   ],
   "source": [
    "pd.Series(lst)"
   ]
  },
  {
   "cell_type": "code",
   "execution_count": 5,
   "id": "45ac081c",
   "metadata": {},
   "outputs": [],
   "source": [
    "lst2 = ['D','E','F']"
   ]
  },
  {
   "cell_type": "code",
   "execution_count": 6,
   "id": "91cc4619",
   "metadata": {},
   "outputs": [
    {
     "data": {
      "text/plain": [
       "A    D\n",
       "B    E\n",
       "C    F\n",
       "dtype: object"
      ]
     },
     "execution_count": 6,
     "metadata": {},
     "output_type": "execute_result"
    }
   ],
   "source": [
    "pd.Series(data=lst2,index=lst)"
   ]
  },
  {
   "cell_type": "code",
   "execution_count": 9,
   "id": "2b7f30a5",
   "metadata": {},
   "outputs": [],
   "source": [
    "dict = {\"x\":\"A\",\"y\":\"B\",\"z\":\"C\"}"
   ]
  },
  {
   "cell_type": "code",
   "execution_count": 10,
   "id": "9171f49e",
   "metadata": {},
   "outputs": [
    {
     "data": {
      "text/plain": [
       "x    A\n",
       "y    B\n",
       "z    C\n",
       "dtype: object"
      ]
     },
     "execution_count": 10,
     "metadata": {},
     "output_type": "execute_result"
    }
   ],
   "source": [
    "pd.Series(dict)"
   ]
  },
  {
   "cell_type": "markdown",
   "id": "7cb53498",
   "metadata": {},
   "source": [
    "# Using an index in Series"
   ]
  },
  {
   "cell_type": "code",
   "execution_count": 11,
   "id": "b4292f40",
   "metadata": {},
   "outputs": [],
   "source": [
    "players = ['Dhoni','Muralidharan','Warne','Lara']"
   ]
  },
  {
   "cell_type": "code",
   "execution_count": 12,
   "id": "c2f6db2c",
   "metadata": {},
   "outputs": [],
   "source": [
    "country = ['India','Sri Lanka','Australia','West Indies']"
   ]
  },
  {
   "cell_type": "code",
   "execution_count": 13,
   "id": "eefc086c",
   "metadata": {},
   "outputs": [],
   "source": [
    "s1 = pd.Series(data = players,index = country)"
   ]
  },
  {
   "cell_type": "code",
   "execution_count": 14,
   "id": "5026af13",
   "metadata": {},
   "outputs": [
    {
     "data": {
      "text/plain": [
       "India                 Dhoni\n",
       "Sri Lanka      Muralidharan\n",
       "Australia             Warne\n",
       "West Indies            Lara\n",
       "dtype: object"
      ]
     },
     "execution_count": 14,
     "metadata": {},
     "output_type": "execute_result"
    }
   ],
   "source": [
    "s1"
   ]
  },
  {
   "cell_type": "code",
   "execution_count": 15,
   "id": "c74dbc14",
   "metadata": {},
   "outputs": [],
   "source": [
    "avg = ['Ironman','Captain','Thor','Groot']"
   ]
  },
  {
   "cell_type": "code",
   "execution_count": 19,
   "id": "409e6c5b",
   "metadata": {},
   "outputs": [],
   "source": [
    "s2 = pd.Series(avg)"
   ]
  },
  {
   "cell_type": "code",
   "execution_count": 20,
   "id": "302fed09",
   "metadata": {},
   "outputs": [
    {
     "data": {
      "text/plain": [
       "0    Ironman\n",
       "1    Captain\n",
       "2       Thor\n",
       "3      Groot\n",
       "dtype: object"
      ]
     },
     "execution_count": 20,
     "metadata": {},
     "output_type": "execute_result"
    }
   ],
   "source": [
    "s2"
   ]
  },
  {
   "cell_type": "markdown",
   "id": "ff3fe219",
   "metadata": {},
   "source": [
    "# Dataframe"
   ]
  },
  {
   "cell_type": "code",
   "execution_count": 22,
   "id": "f1b4ba36",
   "metadata": {},
   "outputs": [],
   "source": [
    "from numpy.random import randn "
   ]
  },
  {
   "cell_type": "code",
   "execution_count": 26,
   "id": "415e3f67",
   "metadata": {},
   "outputs": [],
   "source": [
    "df = pd.DataFrame(randn(5,5),index = 'A B C D E'.split(),columns = 'V W X Y Z'.split())"
   ]
  },
  {
   "cell_type": "code",
   "execution_count": 27,
   "id": "d046cf6a",
   "metadata": {},
   "outputs": [
    {
     "data": {
      "text/html": [
       "<div>\n",
       "<style scoped>\n",
       "    .dataframe tbody tr th:only-of-type {\n",
       "        vertical-align: middle;\n",
       "    }\n",
       "\n",
       "    .dataframe tbody tr th {\n",
       "        vertical-align: top;\n",
       "    }\n",
       "\n",
       "    .dataframe thead th {\n",
       "        text-align: right;\n",
       "    }\n",
       "</style>\n",
       "<table border=\"1\" class=\"dataframe\">\n",
       "  <thead>\n",
       "    <tr style=\"text-align: right;\">\n",
       "      <th></th>\n",
       "      <th>V</th>\n",
       "      <th>W</th>\n",
       "      <th>X</th>\n",
       "      <th>Y</th>\n",
       "      <th>Z</th>\n",
       "    </tr>\n",
       "  </thead>\n",
       "  <tbody>\n",
       "    <tr>\n",
       "      <th>A</th>\n",
       "      <td>0.487462</td>\n",
       "      <td>0.681686</td>\n",
       "      <td>1.720475</td>\n",
       "      <td>0.406614</td>\n",
       "      <td>0.652886</td>\n",
       "    </tr>\n",
       "    <tr>\n",
       "      <th>B</th>\n",
       "      <td>0.214335</td>\n",
       "      <td>-0.039689</td>\n",
       "      <td>1.707018</td>\n",
       "      <td>-0.840924</td>\n",
       "      <td>0.054966</td>\n",
       "    </tr>\n",
       "    <tr>\n",
       "      <th>C</th>\n",
       "      <td>1.941278</td>\n",
       "      <td>-0.494754</td>\n",
       "      <td>0.586152</td>\n",
       "      <td>0.119904</td>\n",
       "      <td>-0.907670</td>\n",
       "    </tr>\n",
       "    <tr>\n",
       "      <th>D</th>\n",
       "      <td>-0.293060</td>\n",
       "      <td>-0.573213</td>\n",
       "      <td>-1.236664</td>\n",
       "      <td>-0.395011</td>\n",
       "      <td>-0.799033</td>\n",
       "    </tr>\n",
       "    <tr>\n",
       "      <th>E</th>\n",
       "      <td>-0.452120</td>\n",
       "      <td>-1.147837</td>\n",
       "      <td>-0.163083</td>\n",
       "      <td>-0.877036</td>\n",
       "      <td>0.557557</td>\n",
       "    </tr>\n",
       "  </tbody>\n",
       "</table>\n",
       "</div>"
      ],
      "text/plain": [
       "          V         W         X         Y         Z\n",
       "A  0.487462  0.681686  1.720475  0.406614  0.652886\n",
       "B  0.214335 -0.039689  1.707018 -0.840924  0.054966\n",
       "C  1.941278 -0.494754  0.586152  0.119904 -0.907670\n",
       "D -0.293060 -0.573213 -1.236664 -0.395011 -0.799033\n",
       "E -0.452120 -1.147837 -0.163083 -0.877036  0.557557"
      ]
     },
     "execution_count": 27,
     "metadata": {},
     "output_type": "execute_result"
    }
   ],
   "source": [
    "df"
   ]
  },
  {
   "cell_type": "markdown",
   "id": "0ec9312d",
   "metadata": {},
   "source": [
    "# Selection & Indexing"
   ]
  },
  {
   "cell_type": "code",
   "execution_count": 29,
   "id": "98363a8d",
   "metadata": {},
   "outputs": [
    {
     "data": {
      "text/plain": [
       "A    0.681686\n",
       "B   -0.039689\n",
       "C   -0.494754\n",
       "D   -0.573213\n",
       "E   -1.147837\n",
       "Name: W, dtype: float64"
      ]
     },
     "execution_count": 29,
     "metadata": {},
     "output_type": "execute_result"
    }
   ],
   "source": [
    "df['W']"
   ]
  },
  {
   "cell_type": "code",
   "execution_count": 35,
   "id": "7a56a310",
   "metadata": {},
   "outputs": [
    {
     "data": {
      "text/html": [
       "<div>\n",
       "<style scoped>\n",
       "    .dataframe tbody tr th:only-of-type {\n",
       "        vertical-align: middle;\n",
       "    }\n",
       "\n",
       "    .dataframe tbody tr th {\n",
       "        vertical-align: top;\n",
       "    }\n",
       "\n",
       "    .dataframe thead th {\n",
       "        text-align: right;\n",
       "    }\n",
       "</style>\n",
       "<table border=\"1\" class=\"dataframe\">\n",
       "  <thead>\n",
       "    <tr style=\"text-align: right;\">\n",
       "      <th></th>\n",
       "      <th>X</th>\n",
       "      <th>Z</th>\n",
       "    </tr>\n",
       "  </thead>\n",
       "  <tbody>\n",
       "    <tr>\n",
       "      <th>A</th>\n",
       "      <td>1.720475</td>\n",
       "      <td>0.652886</td>\n",
       "    </tr>\n",
       "    <tr>\n",
       "      <th>B</th>\n",
       "      <td>1.707018</td>\n",
       "      <td>0.054966</td>\n",
       "    </tr>\n",
       "    <tr>\n",
       "      <th>C</th>\n",
       "      <td>0.586152</td>\n",
       "      <td>-0.907670</td>\n",
       "    </tr>\n",
       "    <tr>\n",
       "      <th>D</th>\n",
       "      <td>-1.236664</td>\n",
       "      <td>-0.799033</td>\n",
       "    </tr>\n",
       "    <tr>\n",
       "      <th>E</th>\n",
       "      <td>-0.163083</td>\n",
       "      <td>0.557557</td>\n",
       "    </tr>\n",
       "  </tbody>\n",
       "</table>\n",
       "</div>"
      ],
      "text/plain": [
       "          X         Z\n",
       "A  1.720475  0.652886\n",
       "B  1.707018  0.054966\n",
       "C  0.586152 -0.907670\n",
       "D -1.236664 -0.799033\n",
       "E -0.163083  0.557557"
      ]
     },
     "execution_count": 35,
     "metadata": {},
     "output_type": "execute_result"
    }
   ],
   "source": [
    "df[['X','Z']]"
   ]
  },
  {
   "cell_type": "markdown",
   "id": "44a884d0",
   "metadata": {},
   "source": [
    "# Creating new columns in a Dataframe"
   ]
  },
  {
   "cell_type": "code",
   "execution_count": 36,
   "id": "93f778e8",
   "metadata": {},
   "outputs": [],
   "source": [
    "df['A'] = df['V'] - df['W']"
   ]
  },
  {
   "cell_type": "code",
   "execution_count": 37,
   "id": "51fce03b",
   "metadata": {},
   "outputs": [
    {
     "data": {
      "text/html": [
       "<div>\n",
       "<style scoped>\n",
       "    .dataframe tbody tr th:only-of-type {\n",
       "        vertical-align: middle;\n",
       "    }\n",
       "\n",
       "    .dataframe tbody tr th {\n",
       "        vertical-align: top;\n",
       "    }\n",
       "\n",
       "    .dataframe thead th {\n",
       "        text-align: right;\n",
       "    }\n",
       "</style>\n",
       "<table border=\"1\" class=\"dataframe\">\n",
       "  <thead>\n",
       "    <tr style=\"text-align: right;\">\n",
       "      <th></th>\n",
       "      <th>V</th>\n",
       "      <th>W</th>\n",
       "      <th>X</th>\n",
       "      <th>Y</th>\n",
       "      <th>Z</th>\n",
       "      <th>A</th>\n",
       "    </tr>\n",
       "  </thead>\n",
       "  <tbody>\n",
       "    <tr>\n",
       "      <th>A</th>\n",
       "      <td>0.487462</td>\n",
       "      <td>0.681686</td>\n",
       "      <td>1.720475</td>\n",
       "      <td>0.406614</td>\n",
       "      <td>0.652886</td>\n",
       "      <td>-0.194224</td>\n",
       "    </tr>\n",
       "    <tr>\n",
       "      <th>B</th>\n",
       "      <td>0.214335</td>\n",
       "      <td>-0.039689</td>\n",
       "      <td>1.707018</td>\n",
       "      <td>-0.840924</td>\n",
       "      <td>0.054966</td>\n",
       "      <td>0.254024</td>\n",
       "    </tr>\n",
       "    <tr>\n",
       "      <th>C</th>\n",
       "      <td>1.941278</td>\n",
       "      <td>-0.494754</td>\n",
       "      <td>0.586152</td>\n",
       "      <td>0.119904</td>\n",
       "      <td>-0.907670</td>\n",
       "      <td>2.436032</td>\n",
       "    </tr>\n",
       "    <tr>\n",
       "      <th>D</th>\n",
       "      <td>-0.293060</td>\n",
       "      <td>-0.573213</td>\n",
       "      <td>-1.236664</td>\n",
       "      <td>-0.395011</td>\n",
       "      <td>-0.799033</td>\n",
       "      <td>0.280153</td>\n",
       "    </tr>\n",
       "    <tr>\n",
       "      <th>E</th>\n",
       "      <td>-0.452120</td>\n",
       "      <td>-1.147837</td>\n",
       "      <td>-0.163083</td>\n",
       "      <td>-0.877036</td>\n",
       "      <td>0.557557</td>\n",
       "      <td>0.695717</td>\n",
       "    </tr>\n",
       "  </tbody>\n",
       "</table>\n",
       "</div>"
      ],
      "text/plain": [
       "          V         W         X         Y         Z         A\n",
       "A  0.487462  0.681686  1.720475  0.406614  0.652886 -0.194224\n",
       "B  0.214335 -0.039689  1.707018 -0.840924  0.054966  0.254024\n",
       "C  1.941278 -0.494754  0.586152  0.119904 -0.907670  2.436032\n",
       "D -0.293060 -0.573213 -1.236664 -0.395011 -0.799033  0.280153\n",
       "E -0.452120 -1.147837 -0.163083 -0.877036  0.557557  0.695717"
      ]
     },
     "execution_count": 37,
     "metadata": {},
     "output_type": "execute_result"
    }
   ],
   "source": [
    "df"
   ]
  },
  {
   "cell_type": "markdown",
   "id": "65e3ee5f",
   "metadata": {},
   "source": [
    "# Deleting a existing column in Dataframe"
   ]
  },
  {
   "cell_type": "code",
   "execution_count": 45,
   "id": "e81e85e3",
   "metadata": {},
   "outputs": [],
   "source": [
    "df.drop('A',axis = 1,inplace = True)"
   ]
  },
  {
   "cell_type": "code",
   "execution_count": 46,
   "id": "a44919f0",
   "metadata": {},
   "outputs": [
    {
     "data": {
      "text/html": [
       "<div>\n",
       "<style scoped>\n",
       "    .dataframe tbody tr th:only-of-type {\n",
       "        vertical-align: middle;\n",
       "    }\n",
       "\n",
       "    .dataframe tbody tr th {\n",
       "        vertical-align: top;\n",
       "    }\n",
       "\n",
       "    .dataframe thead th {\n",
       "        text-align: right;\n",
       "    }\n",
       "</style>\n",
       "<table border=\"1\" class=\"dataframe\">\n",
       "  <thead>\n",
       "    <tr style=\"text-align: right;\">\n",
       "      <th></th>\n",
       "      <th>V</th>\n",
       "      <th>W</th>\n",
       "      <th>X</th>\n",
       "      <th>Y</th>\n",
       "      <th>Z</th>\n",
       "    </tr>\n",
       "  </thead>\n",
       "  <tbody>\n",
       "    <tr>\n",
       "      <th>A</th>\n",
       "      <td>0.487462</td>\n",
       "      <td>0.681686</td>\n",
       "      <td>1.720475</td>\n",
       "      <td>0.406614</td>\n",
       "      <td>0.652886</td>\n",
       "    </tr>\n",
       "    <tr>\n",
       "      <th>B</th>\n",
       "      <td>0.214335</td>\n",
       "      <td>-0.039689</td>\n",
       "      <td>1.707018</td>\n",
       "      <td>-0.840924</td>\n",
       "      <td>0.054966</td>\n",
       "    </tr>\n",
       "    <tr>\n",
       "      <th>C</th>\n",
       "      <td>1.941278</td>\n",
       "      <td>-0.494754</td>\n",
       "      <td>0.586152</td>\n",
       "      <td>0.119904</td>\n",
       "      <td>-0.907670</td>\n",
       "    </tr>\n",
       "    <tr>\n",
       "      <th>D</th>\n",
       "      <td>-0.293060</td>\n",
       "      <td>-0.573213</td>\n",
       "      <td>-1.236664</td>\n",
       "      <td>-0.395011</td>\n",
       "      <td>-0.799033</td>\n",
       "    </tr>\n",
       "    <tr>\n",
       "      <th>E</th>\n",
       "      <td>-0.452120</td>\n",
       "      <td>-1.147837</td>\n",
       "      <td>-0.163083</td>\n",
       "      <td>-0.877036</td>\n",
       "      <td>0.557557</td>\n",
       "    </tr>\n",
       "  </tbody>\n",
       "</table>\n",
       "</div>"
      ],
      "text/plain": [
       "          V         W         X         Y         Z\n",
       "A  0.487462  0.681686  1.720475  0.406614  0.652886\n",
       "B  0.214335 -0.039689  1.707018 -0.840924  0.054966\n",
       "C  1.941278 -0.494754  0.586152  0.119904 -0.907670\n",
       "D -0.293060 -0.573213 -1.236664 -0.395011 -0.799033\n",
       "E -0.452120 -1.147837 -0.163083 -0.877036  0.557557"
      ]
     },
     "execution_count": 46,
     "metadata": {},
     "output_type": "execute_result"
    }
   ],
   "source": [
    "df"
   ]
  },
  {
   "cell_type": "markdown",
   "id": "cf8cb61f",
   "metadata": {},
   "source": [
    "# Deleting a existing rows in Dataframe\n"
   ]
  },
  {
   "cell_type": "code",
   "execution_count": 47,
   "id": "e56c6427",
   "metadata": {},
   "outputs": [
    {
     "data": {
      "text/html": [
       "<div>\n",
       "<style scoped>\n",
       "    .dataframe tbody tr th:only-of-type {\n",
       "        vertical-align: middle;\n",
       "    }\n",
       "\n",
       "    .dataframe tbody tr th {\n",
       "        vertical-align: top;\n",
       "    }\n",
       "\n",
       "    .dataframe thead th {\n",
       "        text-align: right;\n",
       "    }\n",
       "</style>\n",
       "<table border=\"1\" class=\"dataframe\">\n",
       "  <thead>\n",
       "    <tr style=\"text-align: right;\">\n",
       "      <th></th>\n",
       "      <th>V</th>\n",
       "      <th>W</th>\n",
       "      <th>X</th>\n",
       "      <th>Y</th>\n",
       "      <th>Z</th>\n",
       "    </tr>\n",
       "  </thead>\n",
       "  <tbody>\n",
       "    <tr>\n",
       "      <th>A</th>\n",
       "      <td>0.487462</td>\n",
       "      <td>0.681686</td>\n",
       "      <td>1.720475</td>\n",
       "      <td>0.406614</td>\n",
       "      <td>0.652886</td>\n",
       "    </tr>\n",
       "    <tr>\n",
       "      <th>B</th>\n",
       "      <td>0.214335</td>\n",
       "      <td>-0.039689</td>\n",
       "      <td>1.707018</td>\n",
       "      <td>-0.840924</td>\n",
       "      <td>0.054966</td>\n",
       "    </tr>\n",
       "    <tr>\n",
       "      <th>D</th>\n",
       "      <td>-0.293060</td>\n",
       "      <td>-0.573213</td>\n",
       "      <td>-1.236664</td>\n",
       "      <td>-0.395011</td>\n",
       "      <td>-0.799033</td>\n",
       "    </tr>\n",
       "    <tr>\n",
       "      <th>E</th>\n",
       "      <td>-0.452120</td>\n",
       "      <td>-1.147837</td>\n",
       "      <td>-0.163083</td>\n",
       "      <td>-0.877036</td>\n",
       "      <td>0.557557</td>\n",
       "    </tr>\n",
       "  </tbody>\n",
       "</table>\n",
       "</div>"
      ],
      "text/plain": [
       "          V         W         X         Y         Z\n",
       "A  0.487462  0.681686  1.720475  0.406614  0.652886\n",
       "B  0.214335 -0.039689  1.707018 -0.840924  0.054966\n",
       "D -0.293060 -0.573213 -1.236664 -0.395011 -0.799033\n",
       "E -0.452120 -1.147837 -0.163083 -0.877036  0.557557"
      ]
     },
     "execution_count": 47,
     "metadata": {},
     "output_type": "execute_result"
    }
   ],
   "source": [
    "df.drop('C',axis = 0)"
   ]
  },
  {
   "cell_type": "code",
   "execution_count": 50,
   "id": "a7c540a9",
   "metadata": {},
   "outputs": [
    {
     "data": {
      "text/plain": [
       "V   -0.293060\n",
       "W   -0.573213\n",
       "X   -1.236664\n",
       "Y   -0.395011\n",
       "Z   -0.799033\n",
       "Name: D, dtype: float64"
      ]
     },
     "execution_count": 50,
     "metadata": {},
     "output_type": "execute_result"
    }
   ],
   "source": [
    "df.loc['D']"
   ]
  },
  {
   "cell_type": "code",
   "execution_count": 51,
   "id": "5d35e3aa",
   "metadata": {},
   "outputs": [
    {
     "data": {
      "text/plain": [
       "V    1.941278\n",
       "W   -0.494754\n",
       "X    0.586152\n",
       "Y    0.119904\n",
       "Z   -0.907670\n",
       "Name: C, dtype: float64"
      ]
     },
     "execution_count": 51,
     "metadata": {},
     "output_type": "execute_result"
    }
   ],
   "source": [
    "df.iloc[2]"
   ]
  },
  {
   "cell_type": "code",
   "execution_count": 52,
   "id": "92bc884b",
   "metadata": {},
   "outputs": [
    {
     "data": {
      "text/html": [
       "<div>\n",
       "<style scoped>\n",
       "    .dataframe tbody tr th:only-of-type {\n",
       "        vertical-align: middle;\n",
       "    }\n",
       "\n",
       "    .dataframe tbody tr th {\n",
       "        vertical-align: top;\n",
       "    }\n",
       "\n",
       "    .dataframe thead th {\n",
       "        text-align: right;\n",
       "    }\n",
       "</style>\n",
       "<table border=\"1\" class=\"dataframe\">\n",
       "  <thead>\n",
       "    <tr style=\"text-align: right;\">\n",
       "      <th></th>\n",
       "      <th>V</th>\n",
       "      <th>W</th>\n",
       "      <th>X</th>\n",
       "      <th>Y</th>\n",
       "      <th>Z</th>\n",
       "    </tr>\n",
       "  </thead>\n",
       "  <tbody>\n",
       "    <tr>\n",
       "      <th>A</th>\n",
       "      <td>0.487462</td>\n",
       "      <td>0.681686</td>\n",
       "      <td>1.720475</td>\n",
       "      <td>0.406614</td>\n",
       "      <td>0.652886</td>\n",
       "    </tr>\n",
       "    <tr>\n",
       "      <th>B</th>\n",
       "      <td>0.214335</td>\n",
       "      <td>-0.039689</td>\n",
       "      <td>1.707018</td>\n",
       "      <td>-0.840924</td>\n",
       "      <td>0.054966</td>\n",
       "    </tr>\n",
       "    <tr>\n",
       "      <th>C</th>\n",
       "      <td>1.941278</td>\n",
       "      <td>-0.494754</td>\n",
       "      <td>0.586152</td>\n",
       "      <td>0.119904</td>\n",
       "      <td>-0.907670</td>\n",
       "    </tr>\n",
       "    <tr>\n",
       "      <th>D</th>\n",
       "      <td>-0.293060</td>\n",
       "      <td>-0.573213</td>\n",
       "      <td>-1.236664</td>\n",
       "      <td>-0.395011</td>\n",
       "      <td>-0.799033</td>\n",
       "    </tr>\n",
       "    <tr>\n",
       "      <th>E</th>\n",
       "      <td>-0.452120</td>\n",
       "      <td>-1.147837</td>\n",
       "      <td>-0.163083</td>\n",
       "      <td>-0.877036</td>\n",
       "      <td>0.557557</td>\n",
       "    </tr>\n",
       "  </tbody>\n",
       "</table>\n",
       "</div>"
      ],
      "text/plain": [
       "          V         W         X         Y         Z\n",
       "A  0.487462  0.681686  1.720475  0.406614  0.652886\n",
       "B  0.214335 -0.039689  1.707018 -0.840924  0.054966\n",
       "C  1.941278 -0.494754  0.586152  0.119904 -0.907670\n",
       "D -0.293060 -0.573213 -1.236664 -0.395011 -0.799033\n",
       "E -0.452120 -1.147837 -0.163083 -0.877036  0.557557"
      ]
     },
     "execution_count": 52,
     "metadata": {},
     "output_type": "execute_result"
    }
   ],
   "source": [
    "df"
   ]
  },
  {
   "cell_type": "code",
   "execution_count": 55,
   "id": "277e95b3",
   "metadata": {},
   "outputs": [
    {
     "data": {
      "text/plain": [
       "0.6816858718402391"
      ]
     },
     "execution_count": 55,
     "metadata": {},
     "output_type": "execute_result"
    }
   ],
   "source": [
    "df.loc['A','W']"
   ]
  },
  {
   "cell_type": "code",
   "execution_count": 57,
   "id": "ae5b1723",
   "metadata": {},
   "outputs": [
    {
     "data": {
      "text/html": [
       "<div>\n",
       "<style scoped>\n",
       "    .dataframe tbody tr th:only-of-type {\n",
       "        vertical-align: middle;\n",
       "    }\n",
       "\n",
       "    .dataframe tbody tr th {\n",
       "        vertical-align: top;\n",
       "    }\n",
       "\n",
       "    .dataframe thead th {\n",
       "        text-align: right;\n",
       "    }\n",
       "</style>\n",
       "<table border=\"1\" class=\"dataframe\">\n",
       "  <thead>\n",
       "    <tr style=\"text-align: right;\">\n",
       "      <th></th>\n",
       "      <th>W</th>\n",
       "      <th>X</th>\n",
       "    </tr>\n",
       "  </thead>\n",
       "  <tbody>\n",
       "    <tr>\n",
       "      <th>A</th>\n",
       "      <td>0.681686</td>\n",
       "      <td>1.720475</td>\n",
       "    </tr>\n",
       "    <tr>\n",
       "      <th>B</th>\n",
       "      <td>-0.039689</td>\n",
       "      <td>1.707018</td>\n",
       "    </tr>\n",
       "  </tbody>\n",
       "</table>\n",
       "</div>"
      ],
      "text/plain": [
       "          W         X\n",
       "A  0.681686  1.720475\n",
       "B -0.039689  1.707018"
      ]
     },
     "execution_count": 57,
     "metadata": {},
     "output_type": "execute_result"
    }
   ],
   "source": [
    "df.loc[['A','B'],['W','X']]"
   ]
  },
  {
   "cell_type": "markdown",
   "id": "ef47e404",
   "metadata": {},
   "source": [
    "# Conditional Selection"
   ]
  },
  {
   "cell_type": "code",
   "execution_count": 59,
   "id": "2992594d",
   "metadata": {},
   "outputs": [
    {
     "data": {
      "text/html": [
       "<div>\n",
       "<style scoped>\n",
       "    .dataframe tbody tr th:only-of-type {\n",
       "        vertical-align: middle;\n",
       "    }\n",
       "\n",
       "    .dataframe tbody tr th {\n",
       "        vertical-align: top;\n",
       "    }\n",
       "\n",
       "    .dataframe thead th {\n",
       "        text-align: right;\n",
       "    }\n",
       "</style>\n",
       "<table border=\"1\" class=\"dataframe\">\n",
       "  <thead>\n",
       "    <tr style=\"text-align: right;\">\n",
       "      <th></th>\n",
       "      <th>V</th>\n",
       "      <th>W</th>\n",
       "      <th>X</th>\n",
       "      <th>Y</th>\n",
       "      <th>Z</th>\n",
       "    </tr>\n",
       "  </thead>\n",
       "  <tbody>\n",
       "    <tr>\n",
       "      <th>A</th>\n",
       "      <td>0.487462</td>\n",
       "      <td>0.681686</td>\n",
       "      <td>1.720475</td>\n",
       "      <td>0.406614</td>\n",
       "      <td>0.652886</td>\n",
       "    </tr>\n",
       "    <tr>\n",
       "      <th>B</th>\n",
       "      <td>0.214335</td>\n",
       "      <td>NaN</td>\n",
       "      <td>1.707018</td>\n",
       "      <td>NaN</td>\n",
       "      <td>0.054966</td>\n",
       "    </tr>\n",
       "    <tr>\n",
       "      <th>C</th>\n",
       "      <td>1.941278</td>\n",
       "      <td>NaN</td>\n",
       "      <td>0.586152</td>\n",
       "      <td>0.119904</td>\n",
       "      <td>NaN</td>\n",
       "    </tr>\n",
       "    <tr>\n",
       "      <th>D</th>\n",
       "      <td>NaN</td>\n",
       "      <td>NaN</td>\n",
       "      <td>NaN</td>\n",
       "      <td>NaN</td>\n",
       "      <td>NaN</td>\n",
       "    </tr>\n",
       "    <tr>\n",
       "      <th>E</th>\n",
       "      <td>NaN</td>\n",
       "      <td>NaN</td>\n",
       "      <td>NaN</td>\n",
       "      <td>NaN</td>\n",
       "      <td>0.557557</td>\n",
       "    </tr>\n",
       "  </tbody>\n",
       "</table>\n",
       "</div>"
      ],
      "text/plain": [
       "          V         W         X         Y         Z\n",
       "A  0.487462  0.681686  1.720475  0.406614  0.652886\n",
       "B  0.214335       NaN  1.707018       NaN  0.054966\n",
       "C  1.941278       NaN  0.586152  0.119904       NaN\n",
       "D       NaN       NaN       NaN       NaN       NaN\n",
       "E       NaN       NaN       NaN       NaN  0.557557"
      ]
     },
     "execution_count": 59,
     "metadata": {},
     "output_type": "execute_result"
    }
   ],
   "source": [
    "df[df>0]"
   ]
  },
  {
   "cell_type": "code",
   "execution_count": 61,
   "id": "f09f6cda",
   "metadata": {},
   "outputs": [
    {
     "data": {
      "text/html": [
       "<div>\n",
       "<style scoped>\n",
       "    .dataframe tbody tr th:only-of-type {\n",
       "        vertical-align: middle;\n",
       "    }\n",
       "\n",
       "    .dataframe tbody tr th {\n",
       "        vertical-align: top;\n",
       "    }\n",
       "\n",
       "    .dataframe thead th {\n",
       "        text-align: right;\n",
       "    }\n",
       "</style>\n",
       "<table border=\"1\" class=\"dataframe\">\n",
       "  <thead>\n",
       "    <tr style=\"text-align: right;\">\n",
       "      <th></th>\n",
       "      <th>V</th>\n",
       "      <th>W</th>\n",
       "      <th>X</th>\n",
       "      <th>Y</th>\n",
       "      <th>Z</th>\n",
       "    </tr>\n",
       "  </thead>\n",
       "  <tbody>\n",
       "    <tr>\n",
       "      <th>A</th>\n",
       "      <td>0.487462</td>\n",
       "      <td>0.681686</td>\n",
       "      <td>1.720475</td>\n",
       "      <td>0.406614</td>\n",
       "      <td>0.652886</td>\n",
       "    </tr>\n",
       "    <tr>\n",
       "      <th>C</th>\n",
       "      <td>1.941278</td>\n",
       "      <td>-0.494754</td>\n",
       "      <td>0.586152</td>\n",
       "      <td>0.119904</td>\n",
       "      <td>-0.907670</td>\n",
       "    </tr>\n",
       "  </tbody>\n",
       "</table>\n",
       "</div>"
      ],
      "text/plain": [
       "          V         W         X         Y         Z\n",
       "A  0.487462  0.681686  1.720475  0.406614  0.652886\n",
       "C  1.941278 -0.494754  0.586152  0.119904 -0.907670"
      ]
     },
     "execution_count": 61,
     "metadata": {},
     "output_type": "execute_result"
    }
   ],
   "source": [
    "df[df['Y']>0]"
   ]
  },
  {
   "cell_type": "code",
   "execution_count": 63,
   "id": "b6ad4381",
   "metadata": {},
   "outputs": [
    {
     "data": {
      "text/html": [
       "<div>\n",
       "<style scoped>\n",
       "    .dataframe tbody tr th:only-of-type {\n",
       "        vertical-align: middle;\n",
       "    }\n",
       "\n",
       "    .dataframe tbody tr th {\n",
       "        vertical-align: top;\n",
       "    }\n",
       "\n",
       "    .dataframe thead th {\n",
       "        text-align: right;\n",
       "    }\n",
       "</style>\n",
       "<table border=\"1\" class=\"dataframe\">\n",
       "  <thead>\n",
       "    <tr style=\"text-align: right;\">\n",
       "      <th></th>\n",
       "      <th>V</th>\n",
       "      <th>W</th>\n",
       "      <th>X</th>\n",
       "      <th>Y</th>\n",
       "      <th>Z</th>\n",
       "    </tr>\n",
       "  </thead>\n",
       "  <tbody>\n",
       "    <tr>\n",
       "      <th>A</th>\n",
       "      <td>0.487462</td>\n",
       "      <td>0.681686</td>\n",
       "      <td>1.720475</td>\n",
       "      <td>0.406614</td>\n",
       "      <td>0.652886</td>\n",
       "    </tr>\n",
       "    <tr>\n",
       "      <th>B</th>\n",
       "      <td>0.214335</td>\n",
       "      <td>-0.039689</td>\n",
       "      <td>1.707018</td>\n",
       "      <td>-0.840924</td>\n",
       "      <td>0.054966</td>\n",
       "    </tr>\n",
       "    <tr>\n",
       "      <th>C</th>\n",
       "      <td>1.941278</td>\n",
       "      <td>-0.494754</td>\n",
       "      <td>0.586152</td>\n",
       "      <td>0.119904</td>\n",
       "      <td>-0.907670</td>\n",
       "    </tr>\n",
       "    <tr>\n",
       "      <th>D</th>\n",
       "      <td>-0.293060</td>\n",
       "      <td>-0.573213</td>\n",
       "      <td>-1.236664</td>\n",
       "      <td>-0.395011</td>\n",
       "      <td>-0.799033</td>\n",
       "    </tr>\n",
       "    <tr>\n",
       "      <th>E</th>\n",
       "      <td>-0.452120</td>\n",
       "      <td>-1.147837</td>\n",
       "      <td>-0.163083</td>\n",
       "      <td>-0.877036</td>\n",
       "      <td>0.557557</td>\n",
       "    </tr>\n",
       "  </tbody>\n",
       "</table>\n",
       "</div>"
      ],
      "text/plain": [
       "          V         W         X         Y         Z\n",
       "A  0.487462  0.681686  1.720475  0.406614  0.652886\n",
       "B  0.214335 -0.039689  1.707018 -0.840924  0.054966\n",
       "C  1.941278 -0.494754  0.586152  0.119904 -0.907670\n",
       "D -0.293060 -0.573213 -1.236664 -0.395011 -0.799033\n",
       "E -0.452120 -1.147837 -0.163083 -0.877036  0.557557"
      ]
     },
     "execution_count": 63,
     "metadata": {},
     "output_type": "execute_result"
    }
   ],
   "source": [
    "df"
   ]
  },
  {
   "cell_type": "code",
   "execution_count": 73,
   "id": "fc8d4711",
   "metadata": {},
   "outputs": [
    {
     "data": {
      "text/html": [
       "<div>\n",
       "<style scoped>\n",
       "    .dataframe tbody tr th:only-of-type {\n",
       "        vertical-align: middle;\n",
       "    }\n",
       "\n",
       "    .dataframe tbody tr th {\n",
       "        vertical-align: top;\n",
       "    }\n",
       "\n",
       "    .dataframe thead th {\n",
       "        text-align: right;\n",
       "    }\n",
       "</style>\n",
       "<table border=\"1\" class=\"dataframe\">\n",
       "  <thead>\n",
       "    <tr style=\"text-align: right;\">\n",
       "      <th></th>\n",
       "      <th>V</th>\n",
       "      <th>W</th>\n",
       "      <th>X</th>\n",
       "      <th>Y</th>\n",
       "      <th>Z</th>\n",
       "    </tr>\n",
       "  </thead>\n",
       "  <tbody>\n",
       "    <tr>\n",
       "      <th>A</th>\n",
       "      <td>0.487462</td>\n",
       "      <td>0.681686</td>\n",
       "      <td>1.720475</td>\n",
       "      <td>0.406614</td>\n",
       "      <td>0.652886</td>\n",
       "    </tr>\n",
       "  </tbody>\n",
       "</table>\n",
       "</div>"
      ],
      "text/plain": [
       "          V         W         X         Y         Z\n",
       "A  0.487462  0.681686  1.720475  0.406614  0.652886"
      ]
     },
     "execution_count": 73,
     "metadata": {},
     "output_type": "execute_result"
    }
   ],
   "source": [
    "df[(df['W']>0) & (df['X']>0)]"
   ]
  },
  {
   "cell_type": "markdown",
   "id": "e25f5fb9",
   "metadata": {},
   "source": [
    "# Index Reseting"
   ]
  },
  {
   "cell_type": "code",
   "execution_count": 74,
   "id": "6b2b1768",
   "metadata": {},
   "outputs": [
    {
     "data": {
      "text/html": [
       "<div>\n",
       "<style scoped>\n",
       "    .dataframe tbody tr th:only-of-type {\n",
       "        vertical-align: middle;\n",
       "    }\n",
       "\n",
       "    .dataframe tbody tr th {\n",
       "        vertical-align: top;\n",
       "    }\n",
       "\n",
       "    .dataframe thead th {\n",
       "        text-align: right;\n",
       "    }\n",
       "</style>\n",
       "<table border=\"1\" class=\"dataframe\">\n",
       "  <thead>\n",
       "    <tr style=\"text-align: right;\">\n",
       "      <th></th>\n",
       "      <th>V</th>\n",
       "      <th>W</th>\n",
       "      <th>X</th>\n",
       "      <th>Y</th>\n",
       "      <th>Z</th>\n",
       "    </tr>\n",
       "  </thead>\n",
       "  <tbody>\n",
       "    <tr>\n",
       "      <th>A</th>\n",
       "      <td>0.487462</td>\n",
       "      <td>0.681686</td>\n",
       "      <td>1.720475</td>\n",
       "      <td>0.406614</td>\n",
       "      <td>0.652886</td>\n",
       "    </tr>\n",
       "    <tr>\n",
       "      <th>B</th>\n",
       "      <td>0.214335</td>\n",
       "      <td>-0.039689</td>\n",
       "      <td>1.707018</td>\n",
       "      <td>-0.840924</td>\n",
       "      <td>0.054966</td>\n",
       "    </tr>\n",
       "    <tr>\n",
       "      <th>C</th>\n",
       "      <td>1.941278</td>\n",
       "      <td>-0.494754</td>\n",
       "      <td>0.586152</td>\n",
       "      <td>0.119904</td>\n",
       "      <td>-0.907670</td>\n",
       "    </tr>\n",
       "    <tr>\n",
       "      <th>D</th>\n",
       "      <td>-0.293060</td>\n",
       "      <td>-0.573213</td>\n",
       "      <td>-1.236664</td>\n",
       "      <td>-0.395011</td>\n",
       "      <td>-0.799033</td>\n",
       "    </tr>\n",
       "    <tr>\n",
       "      <th>E</th>\n",
       "      <td>-0.452120</td>\n",
       "      <td>-1.147837</td>\n",
       "      <td>-0.163083</td>\n",
       "      <td>-0.877036</td>\n",
       "      <td>0.557557</td>\n",
       "    </tr>\n",
       "  </tbody>\n",
       "</table>\n",
       "</div>"
      ],
      "text/plain": [
       "          V         W         X         Y         Z\n",
       "A  0.487462  0.681686  1.720475  0.406614  0.652886\n",
       "B  0.214335 -0.039689  1.707018 -0.840924  0.054966\n",
       "C  1.941278 -0.494754  0.586152  0.119904 -0.907670\n",
       "D -0.293060 -0.573213 -1.236664 -0.395011 -0.799033\n",
       "E -0.452120 -1.147837 -0.163083 -0.877036  0.557557"
      ]
     },
     "execution_count": 74,
     "metadata": {},
     "output_type": "execute_result"
    }
   ],
   "source": [
    "df"
   ]
  },
  {
   "cell_type": "code",
   "execution_count": 75,
   "id": "2e99d7de",
   "metadata": {},
   "outputs": [],
   "source": [
    "lst = \"AA BB CC DD EE\".split()"
   ]
  },
  {
   "cell_type": "code",
   "execution_count": 76,
   "id": "6837554c",
   "metadata": {},
   "outputs": [],
   "source": [
    "df['index'] = lst"
   ]
  },
  {
   "cell_type": "code",
   "execution_count": 77,
   "id": "adca7128",
   "metadata": {},
   "outputs": [
    {
     "data": {
      "text/html": [
       "<div>\n",
       "<style scoped>\n",
       "    .dataframe tbody tr th:only-of-type {\n",
       "        vertical-align: middle;\n",
       "    }\n",
       "\n",
       "    .dataframe tbody tr th {\n",
       "        vertical-align: top;\n",
       "    }\n",
       "\n",
       "    .dataframe thead th {\n",
       "        text-align: right;\n",
       "    }\n",
       "</style>\n",
       "<table border=\"1\" class=\"dataframe\">\n",
       "  <thead>\n",
       "    <tr style=\"text-align: right;\">\n",
       "      <th></th>\n",
       "      <th>V</th>\n",
       "      <th>W</th>\n",
       "      <th>X</th>\n",
       "      <th>Y</th>\n",
       "      <th>Z</th>\n",
       "      <th>index</th>\n",
       "    </tr>\n",
       "  </thead>\n",
       "  <tbody>\n",
       "    <tr>\n",
       "      <th>A</th>\n",
       "      <td>0.487462</td>\n",
       "      <td>0.681686</td>\n",
       "      <td>1.720475</td>\n",
       "      <td>0.406614</td>\n",
       "      <td>0.652886</td>\n",
       "      <td>AA</td>\n",
       "    </tr>\n",
       "    <tr>\n",
       "      <th>B</th>\n",
       "      <td>0.214335</td>\n",
       "      <td>-0.039689</td>\n",
       "      <td>1.707018</td>\n",
       "      <td>-0.840924</td>\n",
       "      <td>0.054966</td>\n",
       "      <td>BB</td>\n",
       "    </tr>\n",
       "    <tr>\n",
       "      <th>C</th>\n",
       "      <td>1.941278</td>\n",
       "      <td>-0.494754</td>\n",
       "      <td>0.586152</td>\n",
       "      <td>0.119904</td>\n",
       "      <td>-0.907670</td>\n",
       "      <td>CC</td>\n",
       "    </tr>\n",
       "    <tr>\n",
       "      <th>D</th>\n",
       "      <td>-0.293060</td>\n",
       "      <td>-0.573213</td>\n",
       "      <td>-1.236664</td>\n",
       "      <td>-0.395011</td>\n",
       "      <td>-0.799033</td>\n",
       "      <td>DD</td>\n",
       "    </tr>\n",
       "    <tr>\n",
       "      <th>E</th>\n",
       "      <td>-0.452120</td>\n",
       "      <td>-1.147837</td>\n",
       "      <td>-0.163083</td>\n",
       "      <td>-0.877036</td>\n",
       "      <td>0.557557</td>\n",
       "      <td>EE</td>\n",
       "    </tr>\n",
       "  </tbody>\n",
       "</table>\n",
       "</div>"
      ],
      "text/plain": [
       "          V         W         X         Y         Z index\n",
       "A  0.487462  0.681686  1.720475  0.406614  0.652886    AA\n",
       "B  0.214335 -0.039689  1.707018 -0.840924  0.054966    BB\n",
       "C  1.941278 -0.494754  0.586152  0.119904 -0.907670    CC\n",
       "D -0.293060 -0.573213 -1.236664 -0.395011 -0.799033    DD\n",
       "E -0.452120 -1.147837 -0.163083 -0.877036  0.557557    EE"
      ]
     },
     "execution_count": 77,
     "metadata": {},
     "output_type": "execute_result"
    }
   ],
   "source": [
    "df"
   ]
  },
  {
   "cell_type": "code",
   "execution_count": 78,
   "id": "de7dc77f",
   "metadata": {},
   "outputs": [
    {
     "data": {
      "text/html": [
       "<div>\n",
       "<style scoped>\n",
       "    .dataframe tbody tr th:only-of-type {\n",
       "        vertical-align: middle;\n",
       "    }\n",
       "\n",
       "    .dataframe tbody tr th {\n",
       "        vertical-align: top;\n",
       "    }\n",
       "\n",
       "    .dataframe thead th {\n",
       "        text-align: right;\n",
       "    }\n",
       "</style>\n",
       "<table border=\"1\" class=\"dataframe\">\n",
       "  <thead>\n",
       "    <tr style=\"text-align: right;\">\n",
       "      <th></th>\n",
       "      <th>level_0</th>\n",
       "      <th>V</th>\n",
       "      <th>W</th>\n",
       "      <th>X</th>\n",
       "      <th>Y</th>\n",
       "      <th>Z</th>\n",
       "      <th>index</th>\n",
       "    </tr>\n",
       "  </thead>\n",
       "  <tbody>\n",
       "    <tr>\n",
       "      <th>0</th>\n",
       "      <td>A</td>\n",
       "      <td>0.487462</td>\n",
       "      <td>0.681686</td>\n",
       "      <td>1.720475</td>\n",
       "      <td>0.406614</td>\n",
       "      <td>0.652886</td>\n",
       "      <td>AA</td>\n",
       "    </tr>\n",
       "    <tr>\n",
       "      <th>1</th>\n",
       "      <td>B</td>\n",
       "      <td>0.214335</td>\n",
       "      <td>-0.039689</td>\n",
       "      <td>1.707018</td>\n",
       "      <td>-0.840924</td>\n",
       "      <td>0.054966</td>\n",
       "      <td>BB</td>\n",
       "    </tr>\n",
       "    <tr>\n",
       "      <th>2</th>\n",
       "      <td>C</td>\n",
       "      <td>1.941278</td>\n",
       "      <td>-0.494754</td>\n",
       "      <td>0.586152</td>\n",
       "      <td>0.119904</td>\n",
       "      <td>-0.907670</td>\n",
       "      <td>CC</td>\n",
       "    </tr>\n",
       "    <tr>\n",
       "      <th>3</th>\n",
       "      <td>D</td>\n",
       "      <td>-0.293060</td>\n",
       "      <td>-0.573213</td>\n",
       "      <td>-1.236664</td>\n",
       "      <td>-0.395011</td>\n",
       "      <td>-0.799033</td>\n",
       "      <td>DD</td>\n",
       "    </tr>\n",
       "    <tr>\n",
       "      <th>4</th>\n",
       "      <td>E</td>\n",
       "      <td>-0.452120</td>\n",
       "      <td>-1.147837</td>\n",
       "      <td>-0.163083</td>\n",
       "      <td>-0.877036</td>\n",
       "      <td>0.557557</td>\n",
       "      <td>EE</td>\n",
       "    </tr>\n",
       "  </tbody>\n",
       "</table>\n",
       "</div>"
      ],
      "text/plain": [
       "  level_0         V         W         X         Y         Z index\n",
       "0       A  0.487462  0.681686  1.720475  0.406614  0.652886    AA\n",
       "1       B  0.214335 -0.039689  1.707018 -0.840924  0.054966    BB\n",
       "2       C  1.941278 -0.494754  0.586152  0.119904 -0.907670    CC\n",
       "3       D -0.293060 -0.573213 -1.236664 -0.395011 -0.799033    DD\n",
       "4       E -0.452120 -1.147837 -0.163083 -0.877036  0.557557    EE"
      ]
     },
     "execution_count": 78,
     "metadata": {},
     "output_type": "execute_result"
    }
   ],
   "source": [
    "df.reset_index()"
   ]
  },
  {
   "cell_type": "code",
   "execution_count": 82,
   "id": "6e670bfe",
   "metadata": {},
   "outputs": [],
   "source": [
    "df.set_index('index',inplace = True)"
   ]
  },
  {
   "cell_type": "code",
   "execution_count": 83,
   "id": "ddf812c6",
   "metadata": {},
   "outputs": [
    {
     "data": {
      "text/html": [
       "<div>\n",
       "<style scoped>\n",
       "    .dataframe tbody tr th:only-of-type {\n",
       "        vertical-align: middle;\n",
       "    }\n",
       "\n",
       "    .dataframe tbody tr th {\n",
       "        vertical-align: top;\n",
       "    }\n",
       "\n",
       "    .dataframe thead th {\n",
       "        text-align: right;\n",
       "    }\n",
       "</style>\n",
       "<table border=\"1\" class=\"dataframe\">\n",
       "  <thead>\n",
       "    <tr style=\"text-align: right;\">\n",
       "      <th></th>\n",
       "      <th>V</th>\n",
       "      <th>W</th>\n",
       "      <th>X</th>\n",
       "      <th>Y</th>\n",
       "      <th>Z</th>\n",
       "    </tr>\n",
       "    <tr>\n",
       "      <th>index</th>\n",
       "      <th></th>\n",
       "      <th></th>\n",
       "      <th></th>\n",
       "      <th></th>\n",
       "      <th></th>\n",
       "    </tr>\n",
       "  </thead>\n",
       "  <tbody>\n",
       "    <tr>\n",
       "      <th>AA</th>\n",
       "      <td>0.487462</td>\n",
       "      <td>0.681686</td>\n",
       "      <td>1.720475</td>\n",
       "      <td>0.406614</td>\n",
       "      <td>0.652886</td>\n",
       "    </tr>\n",
       "    <tr>\n",
       "      <th>BB</th>\n",
       "      <td>0.214335</td>\n",
       "      <td>-0.039689</td>\n",
       "      <td>1.707018</td>\n",
       "      <td>-0.840924</td>\n",
       "      <td>0.054966</td>\n",
       "    </tr>\n",
       "    <tr>\n",
       "      <th>CC</th>\n",
       "      <td>1.941278</td>\n",
       "      <td>-0.494754</td>\n",
       "      <td>0.586152</td>\n",
       "      <td>0.119904</td>\n",
       "      <td>-0.907670</td>\n",
       "    </tr>\n",
       "    <tr>\n",
       "      <th>DD</th>\n",
       "      <td>-0.293060</td>\n",
       "      <td>-0.573213</td>\n",
       "      <td>-1.236664</td>\n",
       "      <td>-0.395011</td>\n",
       "      <td>-0.799033</td>\n",
       "    </tr>\n",
       "    <tr>\n",
       "      <th>EE</th>\n",
       "      <td>-0.452120</td>\n",
       "      <td>-1.147837</td>\n",
       "      <td>-0.163083</td>\n",
       "      <td>-0.877036</td>\n",
       "      <td>0.557557</td>\n",
       "    </tr>\n",
       "  </tbody>\n",
       "</table>\n",
       "</div>"
      ],
      "text/plain": [
       "              V         W         X         Y         Z\n",
       "index                                                  \n",
       "AA     0.487462  0.681686  1.720475  0.406614  0.652886\n",
       "BB     0.214335 -0.039689  1.707018 -0.840924  0.054966\n",
       "CC     1.941278 -0.494754  0.586152  0.119904 -0.907670\n",
       "DD    -0.293060 -0.573213 -1.236664 -0.395011 -0.799033\n",
       "EE    -0.452120 -1.147837 -0.163083 -0.877036  0.557557"
      ]
     },
     "execution_count": 83,
     "metadata": {},
     "output_type": "execute_result"
    }
   ],
   "source": [
    "df"
   ]
  },
  {
   "cell_type": "code",
   "execution_count": null,
   "id": "cc24b91a",
   "metadata": {},
   "outputs": [],
   "source": []
  }
 ],
 "metadata": {
  "kernelspec": {
   "display_name": "Python 3 (ipykernel)",
   "language": "python",
   "name": "python3"
  },
  "language_info": {
   "codemirror_mode": {
    "name": "ipython",
    "version": 3
   },
   "file_extension": ".py",
   "mimetype": "text/x-python",
   "name": "python",
   "nbconvert_exporter": "python",
   "pygments_lexer": "ipython3",
   "version": "3.11.3"
  }
 },
 "nbformat": 4,
 "nbformat_minor": 5
}
